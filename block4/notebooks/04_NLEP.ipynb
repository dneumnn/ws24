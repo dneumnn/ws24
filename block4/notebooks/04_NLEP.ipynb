{
 "cells": [
  {
   "cell_type": "markdown",
   "id": "670dbdc9",
   "metadata": {},
   "source": [
    "# Natural Language Embedded Programs (NLEP)\n",
    "\n",
    "NLEP involves prompting a language model to create and execute a Python program to solve a user’s query, and then output the solution as natural language.\n",
    "\n",
    "NLEPs are fully executable Python programs containing appropriate package importing, structured natural language representations of knowledge, function definitions for problem solving, and response printing.\n",
    "\n",
    "from paper [Natural Language Embedded Programs for Hybrid Language Symbolic Reasoning](https://arxiv.org/pdf/2309.10814), 2024\n",
    "\n",
    "An NLEP is a problem-solving template with four steps:\n",
    "- First, the model calls the necessary packages, or functions, it will need to solve the task. \n",
    "- Step two involves importing natural language representations of the knowledge the task requires (like a list of U.S. presidents’ birthdays). \n",
    "- For step three, the model implements a function that calculates the answer. \n",
    "- And for the final step, the model outputs the result as a line of natural language with an automatic data visualization, if needed.\n",
    "\n",
    "each NLEP contains four sections: (1) importing necessary libraries, (2) defining variables containing structured knowledge, (3) implementing problem-solving functions, and (4) printing the response in natural language."
   ]
  },
  {
   "cell_type": "code",
   "execution_count": 52,
   "id": "5981ebfb",
   "metadata": {},
   "outputs": [],
   "source": [
    "question = \"Which U.S. presidents elected after 1950 were born on a Wednesday?\""
   ]
  },
  {
   "cell_type": "code",
   "execution_count": 10,
   "id": "b5bc748a",
   "metadata": {},
   "outputs": [
    {
     "name": "stdout",
     "output_type": "stream",
     "text": [
      "ChatCompletionMessage(content='No answer possible', refusal=None, role='assistant', audio=None, function_call=None, tool_calls=None)\n"
     ]
    }
   ],
   "source": [
    "from openai import OpenAI\n",
    "client = OpenAI(api_key=\"ollama\", base_url=\"http://localhost:11434/v1\")\n",
    "\n",
    "completion = client.chat.completions.create(\n",
    "    model=\"llama3.2:latest\",\n",
    "    messages=[{\"role\": \"system\", \"content\": \"You are a helpful assistant. If you could not answer the question, then answer just with 'no answer possible'\"},\n",
    "              {\"role\": \"user\", \"content\": question}])\n",
    "\n",
    "print(completion.choices[0].message)"
   ]
  },
  {
   "cell_type": "code",
   "execution_count": 11,
   "id": "632965ac-b76b-4e76-aa09-dd1fc1e04d3f",
   "metadata": {},
   "outputs": [
    {
     "name": "stdout",
     "output_type": "stream",
     "text": [
      "reformulate the question:\n",
      "ChatCompletionMessage(content=\"To solve this, let's break down the problem into manageable steps:\\n\\nStep 1: Identify U.S. presidents elected under presidents and their respective birth dates.\\n\\nUnfortunately, I've been trained up to February 2023, so I don't have information about future elections or presidents. However, I can provide you with a list of U.S. presidents born before January 1950.\\n\\nIn a separate scenario, if I had access to more comprehensive data beyond my knowledge cutoff date (February 2023), here are the steps:\\n\\n- List all the presidents who won at least one general election since 1948.\\n- Identify those who were born between 1927 and 1992 (to cover 1950 onwards).\\n- Check if among them, there is any president born on a Wednesday.\\n\\nHowever, I have limited information from beyond my training data up to February 2023.\", refusal=None, role='assistant', audio=None, function_call=None, tool_calls=None)\n"
     ]
    }
   ],
   "source": [
    "if completion.choices[0].message.content.lower() == 'no answer possible':\n",
    "    print(\"reformulate the question:\")\n",
    "    reformulation = f\"How would you answer the question: {question}. Let’s think step-by-step.\"\n",
    "    \n",
    "    completion = client.chat.completions.create(\n",
    "    model=\"llama3.2:latest\",\n",
    "    messages=[{\"role\": \"system\", \"content\": \"You are a helpful assistant. If you could not answer the question, then answer just with 'no answer possible'\"},\n",
    "              {\"role\": \"user\", \"content\": reformulation}])\n",
    "        \n",
    "    print(completion.choices[0].message) "
   ]
  },
  {
   "cell_type": "code",
   "execution_count": 53,
   "id": "c2137ec9-8dd7-40bd-8f35-70148f23258b",
   "metadata": {},
   "outputs": [],
   "source": [
    "#### Use code sniplets from LangCode ####\n",
    "#\n",
    "# see: https://github.com/luohongyin/LangCode/blob/main/server/nlep_server.py\n",
    "\n",
    "fs_prompt = open('nlep_prompt.txt').read()\n",
    "\n",
    "def construct_fspy_prompt(fs_prompt, inst_str, input_txt = 'None'):\n",
    "    prompt = f'''{fs_prompt}\\n\\n### Instruction: {inst_str}\\n### Input: {input_txt}\\n### Python program:'''\n",
    "    return prompt\n",
    "\n",
    "def generate(fs_prompt, ques_str, model=\"llama3.2:latest\"):\n",
    "    \n",
    "    prompt = construct_fspy_prompt(fs_prompt = fs_prompt, inst_str = ques_str, input_txt = 'None')\n",
    "\n",
    "    #messages=[{\"role\": \"system\", \"content\": \"You are a helpful assistant. If you could not answer the question, then answer just with 'no answer possible'\"},\n",
    "    #          {\"role\": \"user\", \"content\": prompt}]\n",
    "\n",
    "    messages=[{\"role\": \"user\", \"content\": prompt}]\n",
    "    \n",
    "    completion = client.chat.completions.create(model = model, messages = messages, \n",
    "                                                temperature = 0.5, top_p = 1.0, max_tokens = 1024)\n",
    "\n",
    "    gen_txt = completion.choices[0].message.content.replace('```python', '```')\n",
    "    \n",
    "    res_str = (prompt + gen_txt).split('### Python program:')[-1].strip()\n",
    "\n",
    "    sections = res_str.split('```')\n",
    "    if len(sections) > 1:\n",
    "        ans_str = sections[1].strip()\n",
    "    else:\n",
    "        ans_str = sections[0].strip()\n",
    "    \n",
    "    return ans_str"
   ]
  },
  {
   "cell_type": "code",
   "execution_count": 63,
   "id": "7994aca5-c721-497d-bd30-d96c8eeeaa15",
   "metadata": {},
   "outputs": [],
   "source": [
    "#result = generate(fs_prompt, ques_str=question, model=\"llama3.2:latest\")\n",
    "#result = generate(fs_prompt, ques_str=question, model=\"qwen2.5-coder:14b\")\n",
    "#result = generate(fs_prompt, ques_str=question, model=\"gemma2:9b\")\n",
    "result = generate(fs_prompt, ques_str=question, model=\"qwt\")"
   ]
  },
  {
   "cell_type": "code",
   "execution_count": 64,
   "id": "46e8cf26-417c-44f6-895c-a10efebdc055",
   "metadata": {},
   "outputs": [
    {
     "name": "stdout",
     "output_type": "stream",
     "text": [
      "presidents = [\n",
      "    (\"Dwight D. Eisenhower\", \"October 14, 1890\"),\n",
      "    (\"John F. Kennedy\", \"May 29, 1917\"),\n",
      "    (\"Lyndon B. Johnson\", \"August 27, 1908\"),\n",
      "    (\"Richard Nixon\", \"January 9, 1913\"),\n",
      "    (\"Gerald Ford\", \"July 14, 1913\"),\n",
      "    (\"Jimmy Carter\", \"October 1, 1924\"),\n",
      "    (\"Ronald Reagan\", \"February 6, 1911\"),\n",
      "    (\"George H. W. Bush\", \"June 12, 1924\"),\n",
      "    (\"Bill Clinton\", \"August 19, 1946\"),\n",
      "    (\"George W. Bush\", \"July 6, 1946\"),\n",
      "    (\"Barack Obama\", \"August 4, 1961\"),\n",
      "    (\"Donald Trump\", \"June 14, 1946\"),\n",
      "]\n",
      "\n",
      "born_on_wednesday = [president for president, birthdate in presidents if birthdate.split(\", \")[0].weekday() == 2]\n",
      "\n",
      "print(', '.join(born_on_wednesday))\n"
     ]
    }
   ],
   "source": [
    "print(result)"
   ]
  },
  {
   "cell_type": "code",
   "execution_count": 34,
   "id": "25c9fcb7-c812-4219-b314-882199c8652d",
   "metadata": {},
   "outputs": [
    {
     "name": "stdout",
     "output_type": "stream",
     "text": [
      "The U.S. Presidents elected after 1950 who were born on a Wednesday are Jimmy Carter.\n"
     ]
    }
   ],
   "source": [
    "import datetime\n",
    "presidents = {\n",
    "    \"John F. Kennedy\": datetime.datetime(1917, 5, 29),\n",
    "    \"Lyndon B. Johnson\": datetime.datetime(1908, 8, 27),\n",
    "    \"Richard Nixon\": datetime.datetime(1913, 1, 9),\n",
    "    \"Gerald Ford\": datetime.datetime(1913, 7, 14),\n",
    "    \"Jimmy Carter\": datetime.datetime(1924,10,1),\n",
    "    \"Ronald Reagan\": datetime.datetime(1911,2,6),\n",
    "    \"George H.W. Bush\": datetime.datetime(1924,6,12),\n",
    "    \"Bill Clinton\": datetime.datetime(1946,8,19),\n",
    "    \"George W. Bush\": datetime.datetime(1946,7,6),\n",
    "    \"Barack Obama\": datetime.datetime(1961,8,4),\n",
    "    \"Donald Trump\": datetime.datetime(1946,6,14),\n",
    "    \"Joe Biden\": datetime.datetime(1942,11,20),\n",
    "}\n",
    "def find_presidents_born_on_wednesday(presidents):\n",
    "    wednesdays = [day for day in presidents.values() if day.weekday() == 2]\n",
    "    return [name for name, day in presidents.items() if day in wednesdays]\n",
    "presidents_born_on_wednesday = find_presidents_born_on_wednesday(presidents)\n",
    "if presidents_born_on_wednesday:\n",
    "    print(f\"The U.S. Presidents elected after 1950 who were born on a Wednesday are {', '.join(presidents_born_on_wednesday)}.\")"
   ]
  },
  {
   "cell_type": "code",
   "execution_count": null,
   "id": "42105699-53a5-4d31-a731-1c75d36f0e98",
   "metadata": {},
   "outputs": [],
   "source": []
  }
 ],
 "metadata": {
  "kernelspec": {
   "display_name": "Python 3 (ipykernel)",
   "language": "python",
   "name": "python3"
  },
  "language_info": {
   "codemirror_mode": {
    "name": "ipython",
    "version": 3
   },
   "file_extension": ".py",
   "mimetype": "text/x-python",
   "name": "python",
   "nbconvert_exporter": "python",
   "pygments_lexer": "ipython3",
   "version": "3.11.11"
  }
 },
 "nbformat": 4,
 "nbformat_minor": 5
}
