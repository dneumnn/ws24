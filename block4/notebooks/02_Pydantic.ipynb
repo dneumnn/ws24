{
 "cells": [
  {
   "cell_type": "markdown",
   "id": "3035eddc-274c-4bdc-9a2c-1fbb0e66be68",
   "metadata": {},
   "source": [
    "# Pydantic, Instructor and PydanticAI\n",
    "\n",
    "- Pydantic <https://docs.pydantic.dev/latest/>\n",
    "- Instrcutor <https://python.useinstructor.com>"
   ]
  },
  {
   "cell_type": "markdown",
   "id": "b9e8df75-a275-4495-bbfe-50fa80a11c14",
   "metadata": {},
   "source": [
    "## Start with Pydantic"
   ]
  },
  {
   "cell_type": "code",
   "execution_count": 2,
   "id": "f491059f-fc98-4326-9a6e-5d19248b601a",
   "metadata": {},
   "outputs": [
    {
     "name": "stdout",
     "output_type": "stream",
     "text": [
      "valid user: {'name': 'Alice', 'email': 'alice@example.com', 'age': 25}\n",
      "[{\"type\":\"int_parsing\",\"loc\":[\"age\"],\"msg\":\"Input should be a valid integer, unable to parse string as an integer\",\"input\":\"twenty five\",\"url\":\"https://errors.pydantic.dev/2.10/v/int_parsing\"}]\n"
     ]
    },
    {
     "name": "stderr",
     "output_type": "stream",
     "text": [
      "/var/folders/gb/kf8d65y549d33zybjv_4rww80000gn/T/ipykernel_53049/524425974.py:11: PydanticDeprecatedSince20: The `dict` method is deprecated; use `model_dump` instead. Deprecated in Pydantic V2.0 to be removed in V3.0. See Pydantic V2 Migration Guide at https://errors.pydantic.dev/2.10/migration/\n",
      "  print(\"valid user:\", valid_user.dict())  # Convert model to dictionary\n"
     ]
    }
   ],
   "source": [
    "from pydantic import BaseModel, ValidationError\n",
    "\n",
    "# Define a Pydantic model\n",
    "class User(BaseModel):\n",
    "    name: str\n",
    "    email: str\n",
    "    age: int\n",
    "\n",
    "try:\n",
    "    valid_user = User(name=\"Alice\", email=\"alice@example.com\", age=25)\n",
    "    print(\"valid user:\", valid_user.dict())  # Convert model to dictionary\n",
    "    invalid_user = User(name=\"Alice\", email=\"alice@example.com\", age=\"twenty five\")\n",
    "\n",
    "except ValidationError as e:\n",
    "    print(e.json())  # Handle validation errors\n"
   ]
  },
  {
   "cell_type": "markdown",
   "id": "058a1b78-5d2e-49c5-a3a7-8efd7698641b",
   "metadata": {},
   "source": [
    "## Use Instructor to force structured Output"
   ]
  },
  {
   "cell_type": "code",
   "execution_count": 2,
   "id": "dc5b5d6d-f89e-4832-9e2c-f1523a458c67",
   "metadata": {},
   "outputs": [
    {
     "name": "stdout",
     "output_type": "stream",
     "text": [
      "Function called with kwargs: {'messages': [{'role': 'system', 'content': '\\n        As a genius expert, your task is to understand the content and provide\\n        the parsed objects in json that match the following json_schema:\\n\\n\\n        {\\n  \"properties\": {\\n    \"name\": {\\n      \"title\": \"Name\",\\n      \"type\": \"string\"\\n    },\\n    \"email\": {\\n      \"title\": \"Email\",\\n      \"type\": \"string\"\\n    },\\n    \"age\": {\\n      \"title\": \"Age\",\\n      \"type\": \"integer\"\\n    }\\n  },\\n  \"required\": [\\n    \"name\",\\n    \"email\",\\n    \"age\"\\n  ],\\n  \"title\": \"User\",\\n  \"type\": \"object\"\\n}\\n\\n        Make sure to return an instance of the JSON, not the schema itself\\n'}, {'role': 'user', 'content': 'Alice is 25 years old girl. She lives in Reutlingen and her email adress is alice@example.com'}], 'model': 'llama3.2:latest', 'response_format': {'type': 'json_object'}}\n"
     ]
    }
   ],
   "source": [
    "from openai import OpenAI\n",
    "import instructor\n",
    "\n",
    "client = instructor.from_openai(\n",
    "    OpenAI(\n",
    "        base_url=\"http://localhost:11434/v1\",\n",
    "        api_key=\"ollama\",\n",
    "    ),\n",
    "    mode=instructor.Mode.JSON,\n",
    ")\n",
    "\n",
    "# Define hook functions\n",
    "def log_kwargs(**kwargs):\n",
    "    print(f\"Function called with kwargs: {kwargs}\")\n",
    "\n",
    "\n",
    "def log_exception(exception: Exception):\n",
    "    print(f\"An exception occurred: {str(exception)}\")\n",
    "\n",
    "\n",
    "client.on(\"completion:kwargs\", log_kwargs)\n",
    "client.on(\"completion:error\", log_exception)\n",
    "\n",
    "\n",
    "resp = client.chat.completions.create(\n",
    "    model=\"llama3.2:latest\",\n",
    "    messages=[\n",
    "        {\n",
    "            \"role\": \"user\",\n",
    "            \"content\": \"Alice is 25 years old girl. She lives in Reutlingen and her email adress is alice@example.com\",\n",
    "        }\n",
    "    ],\n",
    "    response_model=User,\n",
    ")\n",
    "assert resp.name == \"Alice\"\n",
    "assert resp.age == 25\n",
    "assert resp.email == \"alice@example.com\""
   ]
  },
  {
   "cell_type": "code",
   "execution_count": 3,
   "id": "6fa36133-5a6f-4524-9659-07eaf1afe5b8",
   "metadata": {},
   "outputs": [
    {
     "data": {
      "text/plain": [
       "User(name='Alice', email='alice@example.com', age=25)"
      ]
     },
     "execution_count": 3,
     "metadata": {},
     "output_type": "execute_result"
    }
   ],
   "source": [
    "resp"
   ]
  },
  {
   "cell_type": "code",
   "execution_count": null,
   "id": "e034ce70-af19-488e-9c5a-02127ed9b3f6",
   "metadata": {},
   "outputs": [],
   "source": []
  }
 ],
 "metadata": {
  "kernelspec": {
   "display_name": "Python 3 (ipykernel)",
   "language": "python",
   "name": "python3"
  },
  "language_info": {
   "codemirror_mode": {
    "name": "ipython",
    "version": 3
   },
   "file_extension": ".py",
   "mimetype": "text/x-python",
   "name": "python",
   "nbconvert_exporter": "python",
   "pygments_lexer": "ipython3",
   "version": "3.11.11"
  }
 },
 "nbformat": 4,
 "nbformat_minor": 5
}
