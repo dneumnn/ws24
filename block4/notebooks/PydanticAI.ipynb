{
 "cells": [
  {
   "cell_type": "markdown",
   "id": "951c902f-18fc-4a13-8c9b-894eaa2473e8",
   "metadata": {},
   "source": [
    "# PydanticAI"
   ]
  },
  {
   "cell_type": "code",
   "execution_count": 1,
   "id": "cc821436-0397-46ff-bba5-a2c2750528b9",
   "metadata": {},
   "outputs": [
    {
     "name": "stdout",
     "output_type": "stream",
     "text": [
      "started.\n",
      "done.\n"
     ]
    }
   ],
   "source": [
    "## PydanticAI is asynchon\n",
    "import asyncio\n",
    "\n",
    "async def func():\n",
    "    print(\"started.\")\n",
    "    await asyncio.sleep(2)\n",
    "    print(\"done.\")\n",
    "\n",
    "await func()"
   ]
  },
  {
   "cell_type": "code",
   "execution_count": 120,
   "id": "32fc7ba1-08f4-4300-8293-562d01b40e06",
   "metadata": {},
   "outputs": [],
   "source": [
    "from pydantic import BaseModel, Field\n",
    "from pydantic_ai import Agent\n",
    "from pydantic_ai.models.openai import OpenAIModel\n",
    "\n",
    "from openai import AsyncOpenAI\n",
    "\n",
    "client = AsyncOpenAI(api_key=\"ollama\", base_url=\"http://localhost:11434/v1\")\n",
    "\n",
    "model = OpenAIModel(\"llama3.2:latest\", openai_client=client)\n",
    "\n",
    "class CityLocation(BaseModel):\n",
    "    city: str = Field(description=\"name of the city\")\n",
    "    zip_code: str = Field(description=\"zip code of the city in ISO 3166\")\n",
    "    country: str = Field(description=\"name of the country\")\n",
    "    geo_coordinates: str = Field(description=\"geo coordinates\")\n",
    "\n",
    "agent = Agent(model=model, result_type=CityLocation, system_prompt=\"You are a helpful asistent. Responding very precise.\")\n",
    "\n",
    "#async def run(prompt):\n",
    "#    return await agent.run(prompt)\n",
    "\n",
    "prompt = \"In which city and country did the olympics take place in 2016?\"\n",
    "\n",
    "result = await agent.run(prompt)"
   ]
  },
  {
   "cell_type": "code",
   "execution_count": 121,
   "id": "56052a9e-2d91-4b1d-9491-c572697b4217",
   "metadata": {},
   "outputs": [
    {
     "data": {
      "text/plain": [
       "CityLocation(city='Rio de Janeiro', zip_code='', country='Brazil', geo_coordinates='')"
      ]
     },
     "execution_count": 121,
     "metadata": {},
     "output_type": "execute_result"
    }
   ],
   "source": [
    "result.data"
   ]
  },
  {
   "cell_type": "markdown",
   "id": "9c3e0d9c-b501-446f-beee-bf21e11c8a8b",
   "metadata": {},
   "source": [
    "## Result\n",
    "- all_messages\n",
    "- all_messages_json\n",
    "- cost\n",
    "- data\n",
    "- new_messages\n",
    "- new_messages_json"
   ]
  },
  {
   "cell_type": "code",
   "execution_count": 122,
   "id": "0086d314-ec13-4d1c-9c67-a519fbf02558",
   "metadata": {},
   "outputs": [
    {
     "name": "stdout",
     "output_type": "stream",
     "text": [
      "None\n",
      "238\n",
      "36\n",
      "274\n"
     ]
    }
   ],
   "source": [
    "print(result.cost().details)\n",
    "print(result.cost().request_tokens)\n",
    "print(result.cost().response_tokens)\n",
    "print(result.cost().total_tokens)"
   ]
  },
  {
   "cell_type": "code",
   "execution_count": 123,
   "id": "9b084b56-09a9-4d1e-833e-d20ffe91d30e",
   "metadata": {},
   "outputs": [
    {
     "name": "stdout",
     "output_type": "stream",
     "text": [
      "<class 'pydantic_ai.messages.SystemPrompt'> : You are a helpful asistent. Responding very precise.\n",
      "<class 'pydantic_ai.messages.UserPrompt'> : In which city and country did the olympics take place in 2016?\n",
      "<class 'pydantic_ai.messages.ModelStructuredResponse'> : [ToolCall(tool_name='final_result', args=ArgsJson(args_json='{\"city\":\"Rio de Janeiro\",\"country\":\"Brazil\",\"geo_coordinates\":\"\",\"zip_code\":\"\"}'), tool_id='call_0w6rzzn5')]\n",
      "<class 'pydantic_ai.messages.ToolReturn'> : Final result processed.\n"
     ]
    }
   ],
   "source": [
    "import pydantic_ai\n",
    "for m in result.all_messages():\n",
    "    print(type(m),\":\",end=\" \")\n",
    "    if type(m) ==  pydantic_ai.messages.SystemPrompt:\n",
    "        print(m.content)\n",
    "    if type(m) ==  pydantic_ai.messages.UserPrompt:\n",
    "        print(m.content)\n",
    "    if type(m) ==  pydantic_ai.messages.ModelStructuredResponse:\n",
    "        print(m.calls)\n",
    "    if type(m) ==  pydantic_ai.messages.ToolReturn:\n",
    "        print(m.content)"
   ]
  },
  {
   "cell_type": "code",
   "execution_count": 124,
   "id": "df297293-441a-4ed8-add2-bf3a1ade344f",
   "metadata": {},
   "outputs": [
    {
     "name": "stdout",
     "output_type": "stream",
     "text": [
      "<class 'pydantic_ai.messages.UserPrompt'> : In which city and country did the olympics take place in 2016?\n",
      "<class 'pydantic_ai.messages.ModelStructuredResponse'> : [ToolCall(tool_name='final_result', args=ArgsJson(args_json='{\"city\":\"Rio de Janeiro\",\"country\":\"Brazil\",\"geo_coordinates\":\"\",\"zip_code\":\"\"}'), tool_id='call_0w6rzzn5')]\n",
      "<class 'pydantic_ai.messages.ToolReturn'> : Final result processed.\n"
     ]
    }
   ],
   "source": [
    "import pydantic_ai\n",
    "for m in result.new_messages():\n",
    "    print(type(m),\":\",end=\" \")\n",
    "    if type(m) ==  pydantic_ai.messages.SystemPrompt:\n",
    "        print(m.content)\n",
    "    if type(m) ==  pydantic_ai.messages.UserPrompt:\n",
    "        print(m.content)\n",
    "    if type(m) ==  pydantic_ai.messages.ModelStructuredResponse:\n",
    "        print(m.calls)\n",
    "    if type(m) ==  pydantic_ai.messages.ToolReturn:\n",
    "        print(m.content)"
   ]
  },
  {
   "cell_type": "code",
   "execution_count": 125,
   "id": "3fe4d931-63d6-4d75-b66e-1ea5e7a47e18",
   "metadata": {},
   "outputs": [
    {
     "name": "stdout",
     "output_type": "stream",
     "text": [
      "<class '__main__.CityLocation'>\n",
      "city='Rio de Janeiro' zip_code='' country='Brazil' geo_coordinates=''\n"
     ]
    }
   ],
   "source": [
    "print(type(result.data))\n",
    "print(result.data)"
   ]
  },
  {
   "cell_type": "code",
   "execution_count": 126,
   "id": "7d9683ce-9f48-44cc-9f38-ac0088629ae3",
   "metadata": {},
   "outputs": [],
   "source": [
    "## Use Tool Calling\n",
    "import requests\n",
    "from bs4 import BeautifulSoup\n",
    "\n",
    "async def get_zip_code(city: str, country: str) -> str:\n",
    "    zip_code = None\n",
    "    geo_cordinates = None\n",
    "    search_string = \"+\".join([item.lower() for item in city.split(\" \")])\n",
    "    #print(search_string)\n",
    "    url = f'http://www.geonames.org/postalcode-search.html?q=\"{search_string}\"'\n",
    "\n",
    "    # A GET request to the API\n",
    "    response = requests.get(url)\n",
    "\n",
    "    if response.ok:\n",
    "        soup = BeautifulSoup(response.text, \"html.parser\")\n",
    "        response_tables = soup.find_all(class_='restable')\n",
    "        response_tables = response_tables[0]    \n",
    "        rows =  response_tables.find_all(name='tr')\n",
    "        # hack (because html is not well formatted)\n",
    "        if len(rows) > 0:\n",
    "            rows = str(rows[1]).split(\"</a></td></tr>\")\n",
    "            for row in rows:\n",
    "                row = row.replace(\"<tr><td>\",\"\") # bug\n",
    "                soup = BeautifulSoup(row, \"html.parser\")\n",
    "                columns = soup.getText(separator=';', strip=True)\n",
    "                columns = columns.split(\";\")\n",
    "                if city == columns[1] and country == columns[3]:\n",
    "                    zip_code = columns[2]\n",
    "                    geo_cordinates = columns[6]\n",
    "                break\n",
    "    return zip_code, geo_cordinates"
   ]
  },
  {
   "cell_type": "code",
   "execution_count": 128,
   "id": "0165512f-a216-4714-9ef3-62f6fd83d5ee",
   "metadata": {},
   "outputs": [
    {
     "name": "stdout",
     "output_type": "stream",
     "text": [
      "20000-000 -22.92/-43.331\n"
     ]
    }
   ],
   "source": [
    "#city = 'Rio de Janeiro'\n",
    "#country = 'Brazil'\n",
    "#zip_code, geo_cordinates = await get_zip_code(city, country)\n",
    "#print(zip_code, geo_cordinates)"
   ]
  },
  {
   "cell_type": "code",
   "execution_count": 153,
   "id": "95d6ea11-4296-4b5b-91be-fb14b39067c8",
   "metadata": {},
   "outputs": [],
   "source": [
    "from dataclasses import dataclass\n",
    "\n",
    "@dataclass\n",
    "class Deps:\n",
    "    weather_api_key: str | None\n",
    "    geo_api_key: str | None\n",
    "\n",
    "city_agent = Agent(model=model, result_type=CityLocation, \n",
    "                   system_prompt=\"You are a helpful asistent. Responding very precise.\",\n",
    "                   retries=2, \n",
    "                   deps_type=Deps)\n",
    "\n"
   ]
  },
  {
   "cell_type": "code",
   "execution_count": 154,
   "id": "cbb6f401-ca62-495a-8cfd-b1848a8efac4",
   "metadata": {},
   "outputs": [],
   "source": [
    "## Use Tool Calling\n",
    "import requests\n",
    "from bs4 import BeautifulSoup\n",
    "from pydantic_ai import RunContext\n",
    "\n",
    "@city_agent.tool\n",
    "async def get_zip_code(ctx: RunContext[Deps],\n",
    "                       city: str, country: str) -> dict[str,str]:\n",
    "    \"\"\"Gets the zip_code of a city and its geo coordinates.\n",
    "\n",
    "    Args:\n",
    "        ctx: The context\n",
    "        city: The name of the city\n",
    "        country: The name of the country\n",
    "    \"\"\"\n",
    "    print(city, country)\n",
    "    zip_code = None\n",
    "    geo_cordinates = None\n",
    "    search_string = \"+\".join([item.lower() for item in city.split(\" \")])\n",
    "    #print(search_string)\n",
    "    url = f'http://www.geonames.org/postalcode-search.html?q=\"{search_string}\"'\n",
    "\n",
    "    # A GET request to the API\n",
    "    response = requests.get(url)\n",
    "\n",
    "    if response.ok:\n",
    "        soup = BeautifulSoup(response.text, \"html.parser\")\n",
    "        response_tables = soup.find_all(class_='restable')\n",
    "        response_tables = response_tables[0]    \n",
    "        rows =  response_tables.find_all(name='tr')\n",
    "        # hack (because html is not well formatted)\n",
    "        if len(rows) > 0:\n",
    "            rows = str(rows[1]).split(\"</a></td></tr>\")\n",
    "            for row in rows:\n",
    "                row = row.replace(\"<tr><td>\",\"\") # bug\n",
    "                soup = BeautifulSoup(row, \"html.parser\")\n",
    "                columns = soup.getText(separator=';', strip=True)\n",
    "                columns = columns.split(\";\")\n",
    "                if city == columns[1] and country == columns[3]:\n",
    "                    zip_code = columns[2]\n",
    "                    geo_cordinates = columns[6]\n",
    "                    print(zip_code, geo_cordinates)\n",
    "                break\n",
    "    return {\"zip_code\": zip_code, \"geo_cordinates\": geo_cordinates}"
   ]
  },
  {
   "cell_type": "code",
   "execution_count": 157,
   "id": "2c3c05aa-a319-442f-8950-7e8e03cd709f",
   "metadata": {},
   "outputs": [
    {
     "name": "stdout",
     "output_type": "stream",
     "text": [
      "Rio de Janeiro Brazil\n",
      "20000-000 -22.92/-43.331\n"
     ]
    }
   ],
   "source": [
    "#async def run(prompt):\n",
    "#    return await agent.run(prompt)\n",
    "\n",
    "#prompt = \"In which city and country did the olympics take place in 2016?\"\n",
    "prompt = \"What are the zip code and the geo coordintaes of Rio de Janeiro in Brazil?\"\n",
    "\n",
    "result = await city_agent.run(prompt)"
   ]
  },
  {
   "cell_type": "code",
   "execution_count": 159,
   "id": "44a10136-86a4-45cc-8c5d-74f22f9ac787",
   "metadata": {},
   "outputs": [
    {
     "data": {
      "text/plain": [
       "CityLocation(city='Rio de Janeiro', zip_code='20000-000', country='Brazil', geo_coordinates='-22.92/-43.33')"
      ]
     },
     "execution_count": 159,
     "metadata": {},
     "output_type": "execute_result"
    }
   ],
   "source": [
    "result.data"
   ]
  },
  {
   "cell_type": "code",
   "execution_count": null,
   "id": "4492e0e3-06c5-4244-a2d6-f9a76a88862f",
   "metadata": {},
   "outputs": [],
   "source": [
    "# use https://www.python-httpx.org\n",
    "# use Weather API: https://openweathermap.org/api/geocoding-api#direct_zip_how"
   ]
  }
 ],
 "metadata": {
  "kernelspec": {
   "display_name": "Python 3 (ipykernel)",
   "language": "python",
   "name": "python3"
  },
  "language_info": {
   "codemirror_mode": {
    "name": "ipython",
    "version": 3
   },
   "file_extension": ".py",
   "mimetype": "text/x-python",
   "name": "python",
   "nbconvert_exporter": "python",
   "pygments_lexer": "ipython3",
   "version": "3.11.11"
  }
 },
 "nbformat": 4,
 "nbformat_minor": 5
}
