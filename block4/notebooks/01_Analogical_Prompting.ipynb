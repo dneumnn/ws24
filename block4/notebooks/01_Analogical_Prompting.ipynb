{
 "cells": [
  {
   "cell_type": "markdown",
   "id": "91bfa2d1-87ef-4873-a951-17ea825f966d",
   "metadata": {},
   "source": [
    "# Analogical Prompting\n",
    "\n",
    "Following the paper:\n",
    "- <https://arxiv.org/pdf/2310.01714>\n",
    "\n",
    "![Analogical Prompting](./Analogical_Prompting_0.png)"
   ]
  },
  {
   "cell_type": "code",
   "execution_count": 1,
   "id": "5d3358eb-998f-4bf4-b2d4-5b5646894405",
   "metadata": {},
   "outputs": [],
   "source": [
    "from openai import OpenAI\n",
    "client = OpenAI(api_key=\"ollama\", base_url=\"http://localhost:11434/v1\")"
   ]
  },
  {
   "cell_type": "code",
   "execution_count": 2,
   "id": "70f9d208-3087-45d7-8e71-ea73b6d0fa25",
   "metadata": {},
   "outputs": [],
   "source": [
    "problem = \"An airline serves a dinner to all the passengers on an airplane.\"\n",
    "problem += \" They get their choice of steak or fish.\"\n",
    "problem += \" Three steak meals and three fish meals are set aside for the six-member crew.\"\n",
    "problem += \" If the meals are distributed to the crew members randomly, what is the probability that both pilots get the fish?\"\n",
    "\n",
    "# The solution is 1/5"
   ]
  },
  {
   "cell_type": "markdown",
   "id": "08c0b46e-5123-467f-843a-be5e923f5bc7",
   "metadata": {},
   "source": [
    "## First start with Chain of Thoughts"
   ]
  },
  {
   "cell_type": "code",
   "execution_count": 3,
   "id": "0d356183-2fe9-4f46-ada7-1f3857774c68",
   "metadata": {},
   "outputs": [],
   "source": [
    "messages = [{\"role\":\"user\", \"content\": problem + \"\\n\" + \"Think step by step\"}]\n",
    "\n",
    "result = client.chat.completions.create(\n",
    "    model='llama3.2:latest',\n",
    "    messages=messages,\n",
    "    #max_tokens=256,\n",
    "    temperature=0.0,\n",
    "    top_p=1,\n",
    "    n=1,\n",
    "    #stop=['\\n\\n'],\n",
    "    logprobs=1)\n",
    "\n",
    "solution = result.choices[0].message.content"
   ]
  },
  {
   "cell_type": "code",
   "execution_count": 5,
   "id": "d4f81265-f7cb-44c9-bb85-a8a7e3b1efb9",
   "metadata": {},
   "outputs": [
    {
     "data": {
      "text/markdown": [
       "To find the probability that both pilots get the fish, we need to consider the total number of ways to distribute the meals and then count the number of favorable outcomes.\n",
       "\n",
       "Step 1: Total number of ways to distribute the meals:\n",
       "\n",
       "There are 3 steak meals and 3 fish meals, and a total of 6 crew members. We can think of this as arranging 3 identical steak meals and 3 identical fish meals in a row, which is equivalent to choosing 3 positions out of 6 for the steak meals (or equivalently, 3 positions for the fish meals). This can be done in $\\binom{6}{3} = \\frac{6!}{3!3!} = 20$ ways.\n",
       "\n",
       "Step 2: Number of favorable outcomes:\n",
       "\n",
       "We want both pilots to get the fish. There are 3 fish meals available, and we need to choose 2 of them for the pilots. This can be done in $\\binom{3}{2} = \\frac{3!}{2!1!} = 3$ ways.\n",
       "\n",
       "Once the two fish meals are chosen, there are 4 remaining meals (2 steak meals and 2 fish meals) to distribute among the remaining 4 crew members. This can be done in $\\binom{4}{2} = \\frac{4!}{2!2!} = 6$ ways.\n",
       "\n",
       "Therefore, the total number of favorable outcomes is $3 \\times 6 = 18$.\n",
       "\n",
       "Step 3: Probability:\n",
       "\n",
       "The probability that both pilots get the fish is the ratio of the number of favorable outcomes to the total number of possible outcomes. Therefore, the probability is $\\frac{18}{20} = \\frac{9}{10}$.\n",
       "\n",
       "So, the probability that both pilots get the fish is $\\boxed{\\frac{9}{10}}$."
      ],
      "text/plain": [
       "<IPython.core.display.Markdown object>"
      ]
     },
     "metadata": {},
     "output_type": "display_data"
    }
   ],
   "source": [
    "from IPython.display import Markdown\n",
    "display(Markdown(solution))"
   ]
  },
  {
   "cell_type": "markdown",
   "id": "ded8a8d7-dc51-429a-b78e-22e17e98e8fd",
   "metadata": {},
   "source": [
    "## Drawing Conclusion by Analogy \n",
    "Analogy is a special kind of similarity. Two situations are analogous if they share a common pattern of relationships among their constituent elements even though the elements themselves differ across the two situations. Typically, one analog, termed the source or base, is more familiar or better understood than the second analog, termed the target. This asymmetry in initial knowledge provides the basis for analogical transfer, using the source to generate inferences about the target.\n",
    "\n",
    "(The Cambridge Handbook of Thinking and Reasoning, Chapter 6 - Analogy)\n",
    "\n",
    "![Analogical Prompting](./Analogical_Prompting_2.png)"
   ]
  },
  {
   "cell_type": "code",
   "execution_count": 6,
   "id": "6f040962-7f78-4ba8-8838-cae06611c08c",
   "metadata": {},
   "outputs": [],
   "source": [
    "system_prompt = \"Your task is to tackle mathematical problems. When presented with a math problem, \"\n",
    "system_prompt += \"recall relevant problems as examples. Afterward, proceed to solve the initial problem.\"\n",
    "\n",
    "instructions = '''\n",
    "# Instructions:\n",
    "## Relevant Problems:\n",
    "Recall three examples of math problems that are relevant to the initial problem. Your problems should be distinct from each other and from the initial problem (e.g., involving different numbers and names). For each problem:\n",
    "- After \"Q: \", describe the problem\n",
    "- After \"A: \", explain the solution and enclose the ultimate answer in \\boxed{}.\n",
    "## Solve the Initial Problem:\n",
    "Q: Copy and paste the initial problem here.\n",
    "A: Explain the solution and enclose the ultimate answer in \\boxed{} here.\n",
    "'''\n",
    "\n",
    "messages = [{\"role\":\"system\", \"content\": system_prompt},\n",
    "            {\"role\":\"user\", \"content\": \"#Problem:\\n\"+ problem + \"\\n\" + instructions}]\n",
    "\n",
    "result = client.chat.completions.create(\n",
    "    model='llama3.2:latest',\n",
    "    messages=messages,\n",
    "    #max_tokens=256,\n",
    "    temperature=0.0,\n",
    "    top_p=1,\n",
    "    n=1,\n",
    "    #stop=['\\n\\n'],\n",
    "    logprobs=1)\n",
    "\n",
    "solution = result.choices[0].message.content"
   ]
  },
  {
   "cell_type": "code",
   "execution_count": 7,
   "id": "a93740be-dab6-43c6-a84e-75a599c80c10",
   "metadata": {},
   "outputs": [
    {
     "data": {
      "text/markdown": [
       "# Relevant Problems:\n",
       "\n",
       "### Problem 1: \n",
       "Q: A bookshelf has 5 shelves, and each shelf can hold 3 books. If the bookshelf is filled with books randomly, what is the probability that a specific book will be placed on the top shelf?\n",
       "A: To solve this problem, we need to calculate the total number of ways to arrange the books on the shelves. Since there are 5 shelves and each shelf can hold 3 books, the total number of arrangements is 5^3 = 125. The probability that a specific book will be placed on the top shelf is 1/125.\n",
       "\n",
       "### Problem 2: \n",
       "Q: A bakery sells two types of bread, white and whole wheat. If there are 15 loaves of each type, how many ways can you choose 5 loaves to give to your friends?\n",
       "A: To solve this problem, we need to calculate the number of combinations of choosing 5 loaves from a total of 30 loaves (15 white + 15 whole wheat). The formula for combinations is nCr = n! / (r!(n-r)!), where n is the total number of items and r is the number of items being chosen. In this case, n=30 and r=5. So, the number of ways to choose 5 loaves is 30C5 = 142,506.\n",
       "\n",
       "### Problem 3: \n",
       "Q: A group of friends want to share some candy equally. If they have 48 pieces of candy and there are 8 friends, what is the probability that each friend will get an equal number of candies?\n",
       "A: To solve this problem, we need to calculate the total number of ways to distribute the candies among the friends. Since each friend should get an equal number of candies, we can divide the total number of candies by the number of friends. In this case, 48/8 = 6. The probability that each friend will get an equal number of candies is 1 (or 100%).\n",
       "\n",
       "# Initial Problem:\n",
       "An airline serves a dinner to all the passengers on an airplane. They get their choice of steak or fish. Three steak meals and three fish meals are set aside for the six-member crew. If the meals are distributed to the crew members randomly, what is the probability that both pilots get the fish?\n",
       "\n",
       "## Solution:\n",
       "To solve this problem, we need to calculate the total number of ways to distribute the meals among the crew members. Since there are 3 steak meals and 3 fish meals, the total number of meals is 6. The number of ways to choose a meal for each crew member is 6 (3 steak + 3 fish). However, we want both pilots to get the fish, so we need to calculate the probability that the first pilot gets the fish and the second pilot also gets the fish.\n",
       "\n",
       "The probability that the first pilot gets the fish is 3/6 = 1/2. After the first pilot gets the fish, there are now 2 fish meals left out of a total of 5 meals (2 fish + 3 steak). The probability that the second pilot gets the fish is 2/5.\n",
       "\n",
       "The overall probability that both pilots get the fish is the product of these two probabilities: (1/2) × (2/5) = 1/5."
      ],
      "text/plain": [
       "<IPython.core.display.Markdown object>"
      ]
     },
     "metadata": {},
     "output_type": "display_data"
    }
   ],
   "source": [
    "from IPython.display import Markdown\n",
    "display(Markdown(solution))"
   ]
  },
  {
   "cell_type": "code",
   "execution_count": null,
   "id": "8a06f13c-0ace-40e9-b272-b80404af65af",
   "metadata": {},
   "outputs": [],
   "source": []
  }
 ],
 "metadata": {
  "kernelspec": {
   "display_name": "Python 3 (ipykernel)",
   "language": "python",
   "name": "python3"
  },
  "language_info": {
   "codemirror_mode": {
    "name": "ipython",
    "version": 3
   },
   "file_extension": ".py",
   "mimetype": "text/x-python",
   "name": "python",
   "nbconvert_exporter": "python",
   "pygments_lexer": "ipython3",
   "version": "3.11.11"
  }
 },
 "nbformat": 4,
 "nbformat_minor": 5
}
