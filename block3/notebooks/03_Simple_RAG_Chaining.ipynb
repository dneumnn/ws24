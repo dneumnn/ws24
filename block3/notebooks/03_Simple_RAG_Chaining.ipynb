{
 "cells": [
  {
   "cell_type": "markdown",
   "id": "948c581e-b952-4312-9e9c-271b1f950433",
   "metadata": {},
   "source": [
    "# WS24 - Intelligente Informationssysteme\n",
    "\n",
    "## Block 3: Retrieval Augmented Generation\n",
    "\n",
    "**Part 3: Understand LangChain Chains**\n"
   ]
  },
  {
   "cell_type": "code",
   "execution_count": 1,
   "id": "ba85477c-06a2-4bc7-8f74-785f4f0c14a3",
   "metadata": {},
   "outputs": [],
   "source": [
    "## Understand the concept of Chains\n",
    "# LangChain uses the LCEL (LangChain Executable Language) Runnable protocol to define the chain\n",
    "# https://python.langchain.com/docs/concepts/lcel/#runnablesequence\n",
    "#\n",
    "# In LangChain Retrievers, Prompts or LLMs are instances of Runnable.\n",
    "# This means that they implement the same methods, such as sync and async .invoke, .stream, or .batch\n",
    "# which makes them easier to connect together. \n",
    "# They can be connected into a RunnableSequence -- another Runnable-- via the | operator.\n",
    "#\n",
    "# Look at some examples from https://python.langchain.com/docs/how_to/lcel_cheatsheet/"
   ]
  },
  {
   "cell_type": "code",
   "execution_count": 2,
   "id": "ceeb4760-5d0f-4c1a-bf68-7edea793e98d",
   "metadata": {},
   "outputs": [
    {
     "name": "stdout",
     "output_type": "stream",
     "text": [
      "<class 'str'>\n"
     ]
    }
   ],
   "source": [
    "# Start with the concept of a Runnable\n",
    "from langchain_core.runnables import RunnableLambda\n",
    "\n",
    "def some_function(x: int) -> str:\n",
    "    return str(x)\n",
    "\n",
    "runnable = RunnableLambda(some_function)\n",
    "print(type(runnable.invoke(5)))"
   ]
  },
  {
   "cell_type": "code",
   "execution_count": 3,
   "id": "2eb6a91d-b361-4ffa-b284-5cb6fb0c1fbd",
   "metadata": {},
   "outputs": [
    {
     "name": "stdout",
     "output_type": "stream",
     "text": [
      "7\n",
      "['5', '6', '7']\n"
     ]
    }
   ],
   "source": [
    "# Async variant:\n",
    "print(await runnable.ainvoke(7))\n",
    "\n",
    "# or as batch\n",
    "runnable = RunnableLambda(lambda x: str(x))\n",
    "print(runnable.batch([5, 6, 7]))"
   ]
  },
  {
   "cell_type": "code",
   "execution_count": 4,
   "id": "98978712-fb03-4117-a6df-79c753c36e04",
   "metadata": {},
   "outputs": [
    {
     "name": "stdout",
     "output_type": "stream",
     "text": [
      "1\n",
      "2\n",
      "3\n",
      "4\n",
      "5\n",
      "----- now with a streamed runnable -----\n",
      "6\n",
      "7\n",
      "8\n",
      "9\n"
     ]
    }
   ],
   "source": [
    "# Runnables can be streamed\n",
    "import time\n",
    "def some_function(x: list):\n",
    "    for y in x:\n",
    "        time.sleep(1) # wait 1 second!\n",
    "        yield str(y)\n",
    "\n",
    "\n",
    "for i in some_function([1,2,3,4,5]):\n",
    "    print(i)\n",
    "\n",
    "print(\"----- now with a streamed runnable -----\")\n",
    "runnable = RunnableLambda(some_function)\n",
    "\n",
    "for chunk in runnable.stream(range(6,10,1)):\n",
    "    print(chunk)\n",
    "\n",
    "# Async variant:\n",
    "# async for chunk in await runnable.astream(range(5)):\n",
    "#     print(chunk)"
   ]
  },
  {
   "cell_type": "code",
   "execution_count": 5,
   "id": "2f98e54b-5716-4832-9470-fedb5ba94784",
   "metadata": {},
   "outputs": [
    {
     "name": "stdout",
     "output_type": "stream",
     "text": [
      "{'context': [2, 2, 2]}\n",
      "[{'context': 2}, {'context': 2}, {'context': 2}]\n"
     ]
    }
   ],
   "source": [
    "# Compose two runnables: composed to a chain: left to rigth\n",
    "runnable1 = RunnableLambda(lambda x: {\"context\": x})\n",
    "runnable2 = RunnableLambda(lambda x: [x]*3) # returns a list of 3 elements\n",
    "\n",
    "chain = runnable2 | runnable1\n",
    "print(chain.invoke(2))\n",
    "\n",
    "chain = runnable1 | runnable2\n",
    "print(chain.invoke(2))"
   ]
  },
  {
   "cell_type": "code",
   "execution_count": 6,
   "id": "d2f3b8f8-3346-4e04-b825-978dd67083a4",
   "metadata": {},
   "outputs": [
    {
     "data": {
      "text/plain": [
       "17"
      ]
     },
     "execution_count": 6,
     "metadata": {},
     "output_type": "execute_result"
    }
   ],
   "source": [
    "# Merge input dict with output dict\n",
    "from langchain_core.runnables import RunnableLambda, RunnablePassthrough\n",
    "\n",
    "runnable1 = RunnableLambda(lambda x: x[\"foo\"] + 7)\n",
    "\n",
    "runnable1.invoke({\"foo\": 10})"
   ]
  },
  {
   "cell_type": "code",
   "execution_count": 7,
   "id": "b6b0072e-4bd6-4bf9-880a-dbdae2017891",
   "metadata": {},
   "outputs": [
    {
     "data": {
      "text/plain": [
       "{'foo': 10, 'bar': 17}"
      ]
     },
     "execution_count": 7,
     "metadata": {},
     "output_type": "execute_result"
    }
   ],
   "source": [
    "# Merge input dict with output dict\n",
    "from langchain_core.runnables import RunnableLambda, RunnablePassthrough\n",
    "\n",
    "runnable1 = RunnableLambda(lambda x: x[\"foo\"] + 7)\n",
    "\n",
    "chain = RunnablePassthrough.assign(bar=runnable1)\n",
    "\n",
    "chain.invoke({\"foo\": 10})"
   ]
  },
  {
   "cell_type": "code",
   "execution_count": 8,
   "id": "04a9da2f-a67c-49b5-a769-957213d79e46",
   "metadata": {},
   "outputs": [
    {
     "data": {
      "text/plain": [
       "{'bar': 17, 'baz': {'foo': 10}}"
      ]
     },
     "execution_count": 8,
     "metadata": {},
     "output_type": "execute_result"
    }
   ],
   "source": [
    "#Include input dict in output dict\n",
    "from langchain_core.runnables import RunnableLambda, RunnableParallel, RunnablePassthrough\n",
    "\n",
    "runnable1 = RunnableLambda(lambda x: x[\"foo\"] + 7)\n",
    "\n",
    "chain = RunnableParallel(bar=runnable1, baz=RunnablePassthrough())\n",
    "\n",
    "chain.invoke({\"foo\": 10})"
   ]
  },
  {
   "cell_type": "code",
   "execution_count": 40,
   "id": "8b081ae7-5bec-434f-8aa0-66c73b86d9e2",
   "metadata": {},
   "outputs": [
    {
     "name": "stdout",
     "output_type": "stream",
     "text": [
      "{'bar': 17, 'baz': {'foo': 10}}\n",
      "{'foo': 10, 'baz': 17}\n",
      "{'bar': {'foo': 10}, 'baz': 17}\n"
     ]
    }
   ],
   "source": [
    "from langchain_core.runnables import RunnableLambda, RunnablePassthrough\n",
    "\n",
    "runnable1 = RunnableLambda(lambda x: x[\"foo\"] + 7)\n",
    "\n",
    "chain = RunnableParallel(bar=runnable1, baz=RunnablePassthrough())\n",
    "print(chain.invoke({\"foo\": 10}))\n",
    "\n",
    "chain = RunnablePassthrough.assign(baz=RunnablePassthrough() | runnable1)\n",
    "print(chain.invoke({\"foo\": 10}))\n",
    "\n",
    "chain = RunnableParallel(bar=RunnablePassthrough(), baz=RunnablePassthrough()| runnable1)\n",
    "print(chain.invoke({\"foo\": 10}))"
   ]
  },
  {
   "cell_type": "code",
   "execution_count": 42,
   "id": "9c67dc6a-889d-4b26-8aa9-a3da0f9f636d",
   "metadata": {},
   "outputs": [
    {
     "name": "stdout",
     "output_type": "stream",
     "text": [
      "Collecting grandalf\n",
      "  Downloading grandalf-0.8-py3-none-any.whl.metadata (1.7 kB)\n",
      "Collecting pyparsing (from grandalf)\n",
      "  Using cached pyparsing-3.2.0-py3-none-any.whl.metadata (5.0 kB)\n",
      "Downloading grandalf-0.8-py3-none-any.whl (41 kB)\n",
      "Using cached pyparsing-3.2.0-py3-none-any.whl (106 kB)\n",
      "Installing collected packages: pyparsing, grandalf\n",
      "Successfully installed grandalf-0.8 pyparsing-3.2.0\n"
     ]
    }
   ],
   "source": [
    "#!pip install grandalf"
   ]
  },
  {
   "cell_type": "code",
   "execution_count": 9,
   "id": "97751b51-1ae0-4bf7-b6fe-abd1072b2477",
   "metadata": {},
   "outputs": [
    {
     "name": "stdout",
     "output_type": "stream",
     "text": [
      "   +------------------------+        \n",
      "   | Parallel<bar,baz>Input |        \n",
      "   +------------------------+        \n",
      "          **         ***             \n",
      "        **              *            \n",
      "       *                 **          \n",
      "+--------+          +-------------+  \n",
      "| Lambda |          | Passthrough |  \n",
      "+--------+          +-------------+  \n",
      "          **         ***             \n",
      "            **      *                \n",
      "              *   **                 \n",
      "   +-------------------------+       \n",
      "   | Parallel<bar,baz>Output |       \n",
      "   +-------------------------+       \n"
     ]
    }
   ],
   "source": [
    "chain.get_graph().print_ascii()"
   ]
  },
  {
   "cell_type": "code",
   "execution_count": 10,
   "id": "84508a7b-2082-4e93-8788-9684b3f747af",
   "metadata": {},
   "outputs": [
    {
     "name": "stdout",
     "output_type": "stream",
     "text": [
      "This is the context:\n",
      "\n",
      " CONTEXT \n",
      "\n",
      "This is the question:\n",
      "\n",
      " QUESTION\n"
     ]
    }
   ],
   "source": [
    "def prompt_funct(x: dict) -> str:\n",
    "    return f\"This is the context:\\n\\n {x['context']} \\n\\nThis is the question:\\n\\n {x['question']}\"\n",
    "\n",
    "runnable_1 = RunnableLambda(prompt_funct)\n",
    "\n",
    "print(runnable_1.invoke({\"context\": \"CONTEXT\", \"question\": \"QUESTION\"}))"
   ]
  },
  {
   "cell_type": "code",
   "execution_count": 12,
   "id": "375fdead-5171-4113-8225-2a0978a21b82",
   "metadata": {},
   "outputs": [],
   "source": [
    "# Put all together\n",
    "from langchain_ollama import OllamaEmbeddings\n",
    "from langchain_ollama import ChatOllama\n",
    "from langchain_chroma import Chroma\n",
    "from langchain_core.prompts import PromptTemplate\n",
    "\n",
    "embeddings = OllamaEmbeddings(model=\"nomic-embed-text\")\n",
    "vectorstore = Chroma(persist_directory=\"vector_store\", collection_name=\"lils_blogs\", embedding_function=embeddings)\n",
    "retriever = vectorstore.as_retriever(search_type=\"similarity\", search_kwargs={\"k\": 6})\n",
    "\n",
    "llm = ChatOllama(model=\"llama3.2:latest\")\n",
    "\n",
    "prompt = \"\"\"You are an assistant for question-answering tasks. Use the following pieces of retrieved context to answer the question. If you don't know the answer, just say that you don't know. Use three sentences maximum and keep the answer concise.\n",
    "Question: {question} \n",
    "Context: {context} \n",
    "Answer:\"\"\"\n",
    "\n",
    "prompt_template = PromptTemplate.from_template(prompt)\n",
    "\n",
    "question = \"What are the approaches to task decomposition?\""
   ]
  },
  {
   "cell_type": "code",
   "execution_count": 13,
   "id": "1735a0c1-996b-4ff7-a696-5dca8161d2ea",
   "metadata": {},
   "outputs": [
    {
     "name": "stdout",
     "output_type": "stream",
     "text": [
      "0.) Fig. 1. Overview of a LLM-powered autonomous agent system.\n",
      "Component One: Planning#\n",
      "A complicated task usually involves many steps. An agent needs to know what they are and plan ahead.\n",
      "Task Decomposition#\n",
      "Chain of thought (CoT; Wei et al. 2022) has become a standard prompting technique for enhancing model performance on complex tasks. The model is instructed to “think step by step” to utilize more test-time computation to decompose hard tasks into smaller and simpler steps. CoT transforms big tasks into multiple manageable tasks and shed lights into an interpretation of the model’s thinking process.\n",
      "\n",
      "1.) (3) Task execution: Expert models execute on the specific tasks and log results.\n",
      "Instruction:\n",
      "\n",
      "With the input and the inference results, the AI assistant needs to describe the process and results. The previous stages can be formed as - User Input: {{ User Input }}, Task Planning: {{ Tasks }}, Model Selection: {{ Model Assignment }}, Task Execution: {{ Predictions }}. You must first answer the user's request in a straightforward manner. Then describe the task process and show your analysis and model inference results to the user in the first person. If inference results contain a file path, must tell the user the complete file path.\n",
      "\n",
      "2.) Tree of Thoughts (Yao et al. 2023) extends CoT by exploring multiple reasoning possibilities at each step. It first decomposes the problem into multiple thought steps and generates multiple thoughts per step, creating a tree structure. The search process can be BFS (breadth-first search) or DFS (depth-first search) with each state evaluated by a classifier (via a prompt) or majority vote.\n",
      "Task decomposition can be done (1) by LLM with simple prompting like \"Steps for XYZ.\\n1.\", \"What are the subgoals for achieving XYZ?\", (2) by using task-specific instructions; e.g. \"Write a story outline.\" for writing a novel, or (3) with human inputs.\n",
      "\n",
      "3.) DynaMoE (Kossmann et al. 2022) uses dynamic recompilation to adapt the computational resources to dynamic workloads among experts. The RECOMPILE mechanism compiles the computation graph from scratch and only reallocates resources when needed. It measures how many samples are assigned to each expert and adjusts their capacity factors $C$ dynamically, in order to reduce the memory and computation requirements at run time. Based on the observation that sample-expert assignments converge early in training, sample assignment caching is introduced after convergence and then RECOMPILE is used to eliminate the dependency between the gating network and experts.\n",
      "Architectural Optimization#\n",
      "\n",
      "4.) Fig. 11. Illustration of how HuggingGPT works. (Image source: Shen et al. 2023)\n",
      "The system comprises of 4 stages:\n",
      "(1) Task planning: LLM works as the brain and parses the user requests into multiple tasks. There are four attributes associated with each task: task type, ID, dependencies, and arguments. They use few-shot examples to guide LLM to do task parsing and planning.\n",
      "Instruction:\n",
      "\n",
      "5.) The AI assistant can parse user input to several tasks: [{\"task\": task, \"id\", task_id, \"dep\": dependency_task_ids, \"args\": {\"text\": text, \"image\": URL, \"audio\": URL, \"video\": URL}}]. The \"dep\" field denotes the id of the previous task which generates a new resource that the current task relies on. A special tag \"-task_id\" refers to the generated text image, audio and video in the dependency task with id as task_id. The task MUST be selected from the following options: {{ Available Task List }}. There is a logical relationship between tasks, please note their order. If the user input can't be parsed, you need to reply empty JSON. Here are several cases for your reference: {{ Demonstrations }}. The chat history is recorded as {{ Chat History }}. From this chat history, you can find the path of the user-mentioned resources for your task planning.\n"
     ]
    }
   ],
   "source": [
    "## Put all together\n",
    "from langchain_core.runnables import RunnablePassthrough\n",
    "from langchain_core.output_parsers import StrOutputParser\n",
    "\n",
    "def format_docs(docs):\n",
    "    return \"\\n\\n\".join(f\"{i}.) {doc.page_content}\" for i, doc in enumerate(docs))\n",
    "\n",
    "retriever_chain = retriever | format_docs\n",
    "print(retriever_chain.invoke(question))"
   ]
  },
  {
   "cell_type": "code",
   "execution_count": 14,
   "id": "23ca1667-3699-4b43-8ded-b188e03578da",
   "metadata": {},
   "outputs": [
    {
     "name": "stdout",
     "output_type": "stream",
     "text": [
      "            +---------------------------------+          \n",
      "            | Parallel<context,question>Input |          \n",
      "            +---------------------------------+          \n",
      "                    ***               ***                \n",
      "                 ***                     ***             \n",
      "               **                           ***          \n",
      "+----------------------+                       **        \n",
      "| VectorStoreRetriever |                        *        \n",
      "+----------------------+                        *        \n",
      "            *                                   *        \n",
      "            *                                   *        \n",
      "            *                                   *        \n",
      "    +-------------+                     +-------------+  \n",
      "    | format_docs |                     | Passthrough |  \n",
      "    +-------------+*                    +-------------+  \n",
      "                    ***               ***                \n",
      "                       ***         ***                   \n",
      "                          **     **                      \n",
      "            +----------------------------------+         \n",
      "            | Parallel<context,question>Output |         \n",
      "            +----------------------------------+         \n",
      "                              *                          \n",
      "                              *                          \n",
      "                              *                          \n",
      "                     +----------------+                  \n",
      "                     | PromptTemplate |                  \n",
      "                     +----------------+                  \n",
      "                              *                          \n",
      "                              *                          \n",
      "                              *                          \n",
      "                       +------------+                    \n",
      "                       | ChatOllama |                    \n",
      "                       +------------+                    \n",
      "                              *                          \n",
      "                              *                          \n",
      "                              *                          \n",
      "                    +-----------------+                  \n",
      "                    | StrOutputParser |                  \n",
      "                    +-----------------+                  \n",
      "                              *                          \n",
      "                              *                          \n",
      "                              *                          \n",
      "                 +-----------------------+               \n",
      "                 | StrOutputParserOutput |               \n",
      "                 +-----------------------+               \n"
     ]
    }
   ],
   "source": [
    "rag_chain = (\n",
    "    {\"context\": retriever_chain, \"question\": RunnablePassthrough()}\n",
    "    | prompt_template\n",
    "    | llm\n",
    "    | StrOutputParser()\n",
    ")\n",
    "rag_chain.get_graph().print_ascii()"
   ]
  },
  {
   "cell_type": "code",
   "execution_count": 15,
   "id": "e9c888a0-d524-4c0a-b0bf-4cfd74a06e61",
   "metadata": {},
   "outputs": [
    {
     "name": "stdout",
     "output_type": "stream",
     "text": [
      "Task decomposition is a technique used to break down complex tasks into smaller, simpler steps. It involves using natural language processing (NLP) techniques, such as chain of thought (CoT) or tree of thoughts, to transform big tasks into manageable ones. This allows the agent to plan ahead and utilize more test-time computation to decompose hard tasks into smaller and simpler steps."
     ]
    }
   ],
   "source": [
    "for chunk in rag_chain.stream(\"What is Task Decomposition?\"):\n",
    "    print(chunk, end=\"\", flush=True)"
   ]
  },
  {
   "cell_type": "code",
   "execution_count": null,
   "id": "0c2d163c-82c8-4241-a2e4-bd58349ddd7d",
   "metadata": {},
   "outputs": [],
   "source": []
  }
 ],
 "metadata": {
  "kernelspec": {
   "display_name": "Python 3 (ipykernel)",
   "language": "python",
   "name": "python3"
  },
  "language_info": {
   "codemirror_mode": {
    "name": "ipython",
    "version": 3
   },
   "file_extension": ".py",
   "mimetype": "text/x-python",
   "name": "python",
   "nbconvert_exporter": "python",
   "pygments_lexer": "ipython3",
   "version": "3.11.10"
  }
 },
 "nbformat": 4,
 "nbformat_minor": 5
}
