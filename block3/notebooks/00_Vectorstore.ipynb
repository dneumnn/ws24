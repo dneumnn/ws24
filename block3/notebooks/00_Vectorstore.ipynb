{
 "cells": [
  {
   "cell_type": "code",
   "execution_count": null,
   "id": "5c3c3609-13b7-4b48-ab11-c65c2ba2102c",
   "metadata": {},
   "outputs": [],
   "source": [
    "# Use ChromaDB for storing some vectors\n",
    "# see https://docs.trychroma.com/guides\n",
    "# - embedding\n",
    "# - similarity / distance function\n",
    "# - metadata\n",
    "# - collections"
   ]
  },
  {
   "cell_type": "code",
   "execution_count": null,
   "id": "596291a5-b1fb-42dc-a4e6-cee758688798",
   "metadata": {},
   "outputs": [],
   "source": [
    "import chromadb\n",
    "# setup Chroma in-memory, for easy prototyping. Can add persistence easily!\n",
    "client = chromadb.Client()\n",
    "\n",
    "# client = chromadb.PersistentClient(path=\"/path/to/save/to\")"
   ]
  },
  {
   "cell_type": "code",
   "execution_count": null,
   "id": "255cafbb-93d7-4eed-9541-a10607b343cf",
   "metadata": {},
   "outputs": [],
   "source": [
    "from chromadb.utils import embedding_functions\n",
    "embed_fn = embedding_functions.DefaultEmbeddingFunction()\n",
    "embed_fn"
   ]
  },
  {
   "cell_type": "code",
   "execution_count": null,
   "id": "cdfacef6-7000-4bd4-bdaa-d0fd588d35c1",
   "metadata": {},
   "outputs": [],
   "source": [
    "inf_chunk_1 = \"\"\"A vector database, vector store or vector search engine is a database that can store vectors \n",
    "(fixed-length lists of numbers) along with other data items. Vector databases typically implement one or more \n",
    "Approximate Nearest Neighbor algorithms,so that one can search the database with a query vector to retrieve the \n",
    "closest matching database records.\"\"\"\n",
    "\n",
    "inf_chunk_2 = \"\"\"Vectors are mathematical representations of data in a high-dimensional space. In this space, \n",
    "each dimension corresponds to a feature of the data, with the number of dimensions ranging from a few hundred to \n",
    "tens of thousands, depending on the complexity of the data being represented. A vector's position in this space \n",
    "represents its characteristics. Words, phrases, or entire documents, as well as images, audio, and other types of data, \n",
    "can all be vectorized.\"\"\"\n",
    "\n",
    "inf_chunk_3 = \"\"\"The Moon is Earth's only natural satellite. It orbits at an average distance of 384,400 km (238,900 mi), \n",
    "about 30 times the diameter of Earth. Tidal forces between Earth and the Moon have synchronized the Moon's orbital period \n",
    "(lunar month) with its rotation period (lunar day) at 29.5 Earth days, causing the same side of the Moon to always face Earth.  \n",
    "\"\"\"\n",
    "\n",
    "vector = embed_fn([inf_chunk_1])\n",
    "print(type(vector))\n",
    "print(type(vector[0]))\n",
    "print(vector[0].shape)"
   ]
  },
  {
   "cell_type": "code",
   "execution_count": null,
   "id": "88bbf01b-38a7-4855-9507-0a4195a0f45a",
   "metadata": {},
   "outputs": [],
   "source": [
    "import numpy as np\n",
    "\n",
    "vector_1 = embed_fn([inf_chunk_1])[0]\n",
    "vector_2 = embed_fn([inf_chunk_2])[0]\n",
    "vector_3 = embed_fn([inf_chunk_3])[0]\n",
    "\n",
    "def cosine_similarity(v1, v2):\n",
    "    dot_product = np.dot(v1, v2)\n",
    "    return  dot_product / (np.linalg.norm(v1) * np.linalg.norm(v2))\n",
    "\n",
    "cosine_similarity(vector_1, vector_2)"
   ]
  },
  {
   "cell_type": "code",
   "execution_count": null,
   "id": "947e45c7-fe43-4153-b4fd-4972651a5650",
   "metadata": {},
   "outputs": [],
   "source": [
    "vectors = [vector_1, vector_2, vector_3]\n",
    "\n",
    "for v1 in vectors:\n",
    "    for v2 in vectors:\n",
    "        print(cosine_similarity(v1, v2))"
   ]
  },
  {
   "cell_type": "code",
   "execution_count": null,
   "id": "ed5f6441-86c8-4131-8553-4ee4e83ee1d7",
   "metadata": {},
   "outputs": [],
   "source": [
    "# Create a collection\n",
    "client.delete_collection(name=\"my_collection\") \n",
    "collection = client.create_collection(name=\"my_collection\", \n",
    "                                      embedding_function=embed_fn, \n",
    "                                      metadata={\"hnsw:space\": \"cosine\"} # l2 is the default\n",
    "                                     )\n",
    "collection = client.get_collection(name=\"my_collection\", embedding_function=embed_fn)"
   ]
  },
  {
   "cell_type": "code",
   "execution_count": null,
   "id": "1263802c-c6d5-4c57-9d34-959c34b9c29a",
   "metadata": {},
   "outputs": [],
   "source": [
    "import uuid\n",
    "\n",
    "ids = []\n",
    "for i  in range(3):\n",
    "    ids.append(str(uuid.uuid4()))\n",
    "\n",
    "collection.add(\n",
    "    documents=[inf_chunk_1, inf_chunk_2, inf_chunk_3],\n",
    "    metadatas=[\n",
    "        {\"wikipedia\": \"Vector database\", \"url\": \"https://en.wikipedia.org/wiki/Vector_database\"}, \n",
    "        {\"wikipedia\": \"Vector database\", \"url\": \"https://en.wikipedia.org/wiki/Vector_database\"}, \n",
    "        {\"wikipedia\": \"Moon\", \"url\": \"https://en.wikipedia.org/wiki/Moon\"}],\n",
    "    ids=ids\n",
    ")"
   ]
  },
  {
   "cell_type": "code",
   "execution_count": null,
   "id": "7a8d9043-ca54-4f0a-aed7-bc124ab09864",
   "metadata": {},
   "outputs": [],
   "source": [
    "query = \"Tell me something about th moon.\"\n",
    "query_embeddings = embed_fn([query])\n",
    "\n",
    "\n",
    "result = collection.query(\n",
    "    query_embeddings=query_embeddings,\n",
    "    n_results=2,\n",
    ")"
   ]
  },
  {
   "cell_type": "code",
   "execution_count": null,
   "id": "3441cae7-d37d-497d-914d-ee00729740b1",
   "metadata": {},
   "outputs": [],
   "source": [
    "result #distance = 1 - cosine_similarity !"
   ]
  },
  {
   "cell_type": "code",
   "execution_count": null,
   "id": "f8bc700b-6610-4d69-a973-a54343b6cf3c",
   "metadata": {},
   "outputs": [],
   "source": [
    "result = collection.query(\n",
    "    query_embeddings=query_embeddings,\n",
    "    n_results=2,\n",
    "    where={\"wikipedia\": \"Vector database\"}\n",
    ")"
   ]
  },
  {
   "cell_type": "code",
   "execution_count": null,
   "id": "b5f79323-4103-447a-ba74-98ac7c17cdc1",
   "metadata": {},
   "outputs": [],
   "source": [
    "result"
   ]
  },
  {
   "cell_type": "code",
   "execution_count": null,
   "id": "21882566-f01a-4cf3-a424-6270df223534",
   "metadata": {},
   "outputs": [],
   "source": []
  }
 ],
 "metadata": {
  "kernelspec": {
   "display_name": "Python 3 (ipykernel)",
   "language": "python",
   "name": "python3"
  },
  "language_info": {
   "codemirror_mode": {
    "name": "ipython",
    "version": 3
   },
   "file_extension": ".py",
   "mimetype": "text/x-python",
   "name": "python",
   "nbconvert_exporter": "python",
   "pygments_lexer": "ipython3",
   "version": "3.11.10"
  }
 },
 "nbformat": 4,
 "nbformat_minor": 5
}
