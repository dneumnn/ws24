{
 "cells": [
  {
   "attachments": {},
   "cell_type": "markdown",
   "id": "bc384b9b-4fd5-4266-9c32-54dc140bebc6",
   "metadata": {},
   "source": [
    "# Variational Autoencoder\n",
    "\n",
    "While Autoencoders are good at reconstructing original images, they fail at generating novel images that are unseen in the training set. **Further they tend not to map similar inputs to nearby points in the latent space.** As a result, the latent space associated with an Autoencoder is neither continuous nor easily interpretable.\n",
    "\n",
    "For these reasons we will study an improvement in EAs: **Variational Autoencoder**\n",
    "\n",
    "Further Readining:\n",
    "\n",
    "- see: Mark Liu, Learn Generative AI with PyTorch, Chapter 7.3\n",
    "- see: https://arxiv.org/abs/1312.6114\n",
    "\n",
    "\n"
   ]
  },
  {
   "cell_type": "raw",
   "id": "98a7a2ab-d22d-4be3-92df-bbfb7b64f521",
   "metadata": {},
   "source": []
  },
  {
   "cell_type": "code",
   "execution_count": null,
   "id": "035c4331-4134-451e-8460-1b7d4df877af",
   "metadata": {},
   "outputs": [],
   "source": []
  }
 ],
 "metadata": {
  "kernelspec": {
   "display_name": "Python 3 (ipykernel)",
   "language": "python",
   "name": "python3"
  },
  "language_info": {
   "codemirror_mode": {
    "name": "ipython",
    "version": 3
   },
   "file_extension": ".py",
   "mimetype": "text/x-python",
   "name": "python",
   "nbconvert_exporter": "python",
   "pygments_lexer": "ipython3",
   "version": "3.11.10"
  }
 },
 "nbformat": 4,
 "nbformat_minor": 5
}
